{
  "cells": [
    {
      "cell_type": "markdown",
      "metadata": {
        "id": "view-in-github",
        "colab_type": "text"
      },
      "source": [
        "<a href=\"https://colab.research.google.com/github/Daisy949/2023STB_MAENG_JU_HYUNG/blob/main/(13)Text_mining%EC%9D%98_%EC%82%AC%EB%B3%B8.ipynb\" target=\"_parent\"><img src=\"https://colab.research.google.com/assets/colab-badge.svg\" alt=\"Open In Colab\"/></a>"
      ]
    },
    {
      "cell_type": "code",
      "execution_count": null,
      "metadata": {
        "execution": {
          "iopub.execute_input": "2023-06-26T14:23:12.007212Z",
          "iopub.status.busy": "2023-06-26T14:23:12.006263Z",
          "iopub.status.idle": "2023-06-26T14:23:13.400561Z",
          "shell.execute_reply": "2023-06-26T14:23:13.399247Z"
        },
        "id": "IWYVduzEWnA_",
        "outputId": "05999c45-a504-4a48-bb53-6e81bba79814"
      },
      "outputs": [
        {
          "name": "stdout",
          "output_type": "stream",
          "text": [
            "Requirement already satisfied: dmba in /usr/local/lib/python3.11/site-packages (0.2.2)\r\n"
          ]
        },
        {
          "name": "stdout",
          "output_type": "stream",
          "text": [
            "\u001b[33mWARNING: Running pip as the 'root' user can result in broken permissions and conflicting behaviour with the system package manager. It is recommended to use a virtual environment instead: https://pip.pypa.io/warnings/venv\u001b[0m\u001b[33m\r\n",
            "\u001b[0m"
          ]
        },
        {
          "name": "stdout",
          "output_type": "stream",
          "text": [
            "Note: you may need to restart the kernel to use updated packages.\n"
          ]
        }
      ],
      "source": [
        "pip install dmba"
      ]
    },
    {
      "cell_type": "code",
      "execution_count": null,
      "metadata": {
        "execution": {
          "iopub.execute_input": "2023-06-26T14:23:13.404263Z",
          "iopub.status.busy": "2023-06-26T14:23:13.403964Z",
          "iopub.status.idle": "2023-06-26T14:23:16.647368Z",
          "shell.execute_reply": "2023-06-26T14:23:16.646180Z"
        },
        "id": "mQlLAsYJWnBA",
        "outputId": "e77491d5-dff5-4b6f-e1c6-1dfe16ed2eca"
      },
      "outputs": [
        {
          "name": "stdout",
          "output_type": "stream",
          "text": [
            "no display found. Using non-interactive Agg backend\n"
          ]
        },
        {
          "name": "stderr",
          "output_type": "stream",
          "text": [
            "[nltk_data] Downloading package punkt to /root/nltk_data...\n"
          ]
        },
        {
          "name": "stderr",
          "output_type": "stream",
          "text": [
            "[nltk_data]   Unzipping tokenizers/punkt.zip.\n"
          ]
        }
      ],
      "source": [
        "from pathlib import Path\n",
        "\n",
        "from zipfile import ZipFile\n",
        "import pandas as pd\n",
        "from sklearn.model_selection import train_test_split\n",
        "from sklearn.feature_extraction.text import CountVectorizer\n",
        "from sklearn.feature_extraction.text import TfidfTransformer\n",
        "from sklearn.decomposition import TruncatedSVD\n",
        "from sklearn.preprocessing import Normalizer\n",
        "from sklearn.pipeline import make_pipeline\n",
        "from sklearn.linear_model import LogisticRegression\n",
        "import nltk\n",
        "from nltk import word_tokenize\n",
        "from nltk.stem.snowball import EnglishStemmer\n",
        "import matplotlib.pylab as plt\n",
        "\n",
        "import dmba\n",
        "from dmba import printTermDocumentMatrix, classificationSummary, liftChart\n",
        "\n",
        "nltk.download('punkt')\n",
        "\n",
        "%matplotlib inline\n"
      ]
    },
    {
      "cell_type": "markdown",
      "metadata": {
        "id": "TR0jDhnoWnBB"
      },
      "source": [
        "## Table 20.1 Term-document representation of words in sentences S1-S3\n"
      ]
    },
    {
      "cell_type": "code",
      "execution_count": null,
      "metadata": {
        "execution": {
          "iopub.execute_input": "2023-06-26T14:23:16.650651Z",
          "iopub.status.busy": "2023-06-26T14:23:16.650237Z",
          "iopub.status.idle": "2023-06-26T14:23:16.659007Z",
          "shell.execute_reply": "2023-06-26T14:23:16.658151Z"
        },
        "id": "D08-3NzqWnBB",
        "outputId": "b98bd092-31bf-4f11-9899-9979b9ba521e"
      },
      "outputs": [
        {
          "name": "stdout",
          "output_type": "stream",
          "text": [
            "          S1  S2  S3\n",
            "first      1   0   0\n",
            "here       0   0   1\n",
            "is         1   1   1\n",
            "second     0   1   0\n",
            "sentence   1   1   1\n",
            "the        1   0   1\n",
            "third      0   0   1\n",
            "this       1   1   0\n"
          ]
        }
      ],
      "source": [
        "text = ['this is the first sentence.',\n",
        "        'this is a second sentence.',\n",
        "        'the third sentence is here.']\n",
        "\n",
        "# Learn features based on text\n",
        "count_vect = CountVectorizer()\n",
        "counts = count_vect.fit_transform(text)\n",
        "\n",
        "printTermDocumentMatrix(count_vect, counts)"
      ]
    },
    {
      "cell_type": "code",
      "source": [
        "#텍스트의 형식 : 문서-단어-행렬(term document matrix)\n",
        "#한국어 예문 사례\n",
        "text = ['비즈니스 애널리틱스에 관심이 있는 학생',\n",
        "        '통계학에 관심이 있는 학생',\n",
        "        '비즈니스 애널리틱스를 위해서 통계학을 수강한 학생']\n",
        "\n",
        "# Learn features based on text\n",
        "count_vect = CountVectorizer()\n",
        "counts = count_vect.fit_transform(text)\n",
        "\n",
        "printTermDocumentMatrix(count_vect, counts)"
      ],
      "metadata": {
        "id": "dcGpHTP_XZj3"
      },
      "execution_count": null,
      "outputs": []
    },
    {
      "cell_type": "code",
      "source": [
        "#텍스트의 형식 : 문서-단어-행렬(term document matrix)\n",
        "#중국어 예문 사례\n",
        "text = ['想去旅行的城市是厦门',\n",
        "        '想去旅行的城市是云南省',\n",
        "        '我想去中国背包旅行']\n",
        "\n",
        "# Learn features based on text\n",
        "count_vect = CountVectorizer()\n",
        "counts = count_vect.fit_transform(text)\n",
        "\n",
        "printTermDocumentMatrix(count_vect, counts)"
      ],
      "metadata": {
        "id": "ju7VHiGRXbZT"
      },
      "execution_count": null,
      "outputs": []
    },
    {
      "cell_type": "code",
      "source": [
        "#텍스트의 형식 : 문서-단어-행렬(term document matrix)\n",
        "#중국어 띄어쓰기 예문 사례\n",
        "text = ['想去 旅行的 城市 是 厦门',\n",
        "        '想去 旅行的 城市 是 云南省',\n",
        "        '我 想去 中国 背包旅行']\n",
        "\n",
        "# Learn features based on text\n",
        "count_vect = CountVectorizer()\n",
        "counts = count_vect.fit_transform(text)\n",
        "\n",
        "printTermDocumentMatrix(count_vect, counts)"
      ],
      "metadata": {
        "id": "lFtRQORLXdQy"
      },
      "execution_count": null,
      "outputs": []
    },
    {
      "cell_type": "markdown",
      "metadata": {
        "id": "YcNKjV7aWnBB"
      },
      "source": [
        "## Table 20.2 Term-document representation of words in sentences S1-S4 (Example 2)"
      ]
    },
    {
      "cell_type": "code",
      "execution_count": null,
      "metadata": {
        "execution": {
          "iopub.execute_input": "2023-06-26T14:23:16.661823Z",
          "iopub.status.busy": "2023-06-26T14:23:16.661497Z",
          "iopub.status.idle": "2023-06-26T14:23:16.669040Z",
          "shell.execute_reply": "2023-06-26T14:23:16.668171Z"
        },
        "id": "LwezzYKsWnBC",
        "outputId": "8000b877-d6e7-46a3-fcf4-c0a0125804e8"
      },
      "outputs": [
        {
          "name": "stdout",
          "output_type": "stream",
          "text": [
            "           S1  S2  S3  S4\n",
            "all         0   0   0   1\n",
            "first       1   0   0   0\n",
            "forth       0   0   0   1\n",
            "here        0   0   1   0\n",
            "is          1   1   1   0\n",
            "of          0   0   0   1\n",
            "second      0   1   0   0\n",
            "sentence    1   1   1   0\n",
            "sentences   0   0   0   1\n",
            "the         1   0   1   0\n",
            "third       0   0   1   0\n",
            "this        1   1   0   0\n"
          ]
        }
      ],
      "source": [
        "text = ['this is the first     sentence!!',\n",
        "        'this is a second Sentence :)',\n",
        "        'the third sentence, is here ',\n",
        "        'forth of all sentences']\n",
        "\n",
        "# Learn features based on text. Include special characters that are part of a word in the analysis\n",
        "count_vect = CountVectorizer()\n",
        "counts = count_vect.fit_transform(text)\n",
        "\n",
        "printTermDocumentMatrix(count_vect, counts)"
      ]
    },
    {
      "cell_type": "markdown",
      "metadata": {
        "id": "deXz6KumWnBC"
      },
      "source": [
        "## Table 20.3 Tokenization of S1-S4"
      ]
    },
    {
      "cell_type": "code",
      "execution_count": null,
      "metadata": {
        "execution": {
          "iopub.execute_input": "2023-06-26T14:23:16.671916Z",
          "iopub.status.busy": "2023-06-26T14:23:16.671450Z",
          "iopub.status.idle": "2023-06-26T14:23:16.678817Z",
          "shell.execute_reply": "2023-06-26T14:23:16.677948Z"
        },
        "id": "Y9e1icAGWnBC",
        "outputId": "2ec6cf61-1b48-4745-b5fd-cc07372fbfad"
      },
      "outputs": [
        {
          "name": "stdout",
          "output_type": "stream",
          "text": [
            "            S1  S2  S3  S4\n",
            ":)           0   1   0   0\n",
            "a            0   1   0   0\n",
            "all          0   0   0   1\n",
            "first        1   0   0   0\n",
            "forth        0   0   0   1\n",
            "here         0   0   1   0\n",
            "is           1   1   1   0\n",
            "of           0   0   0   1\n",
            "second       0   1   0   0\n",
            "sentence     0   1   1   0\n",
            "sentence!!   1   0   0   0\n",
            "sentences    0   0   0   1\n",
            "the          1   0   1   0\n",
            "third        0   0   1   0\n",
            "this         1   1   0   0\n"
          ]
        }
      ],
      "source": [
        "text = ['this is the first     sentence!!',\n",
        "        'this is a second Sentence :)',\n",
        "        'the third sentence, is here ',\n",
        "        'forth of all sentences']\n",
        "\n",
        "# Learn features based on text. Include special characters that are part of a word in the analysis\n",
        "count_vect = CountVectorizer(token_pattern='[a-zA-Z!:)]+')\n",
        "counts = count_vect.fit_transform(text)\n",
        "\n",
        "printTermDocumentMatrix(count_vect, counts)"
      ]
    },
    {
      "cell_type": "markdown",
      "metadata": {
        "id": "ioc2n06HWnBD"
      },
      "source": [
        "## Table 20.4 Stopwords in scitkit-learn"
      ]
    },
    {
      "cell_type": "code",
      "execution_count": null,
      "metadata": {
        "execution": {
          "iopub.execute_input": "2023-06-26T14:23:16.681361Z",
          "iopub.status.busy": "2023-06-26T14:23:16.681127Z",
          "iopub.status.idle": "2023-06-26T14:23:16.686364Z",
          "shell.execute_reply": "2023-06-26T14:23:16.685470Z"
        },
        "id": "fiBmp513WnBD",
        "outputId": "a92d1a2b-a55b-4a25-9b13-5d4efb82cb79"
      },
      "outputs": [
        {
          "name": "stdout",
          "output_type": "stream",
          "text": [
            "First 180 of 318 stopwords\n",
            "a            about        above        across       after        afterwards   \n",
            "again        against      all          almost       alone        along        \n",
            "already      also         although     always       am           among        \n",
            "amongst      amoungst     amount       an           and          another      \n",
            "any          anyhow       anyone       anything     anyway       anywhere     \n",
            "are          around       as           at           back         be           \n",
            "became       because      become       becomes      becoming     been         \n",
            "before       beforehand   behind       being        below        beside       \n",
            "besides      between      beyond       bill         both         bottom       \n",
            "but          by           call         can          cannot       cant         \n",
            "co           con          could        couldnt      cry          de           \n",
            "describe     detail       do           done         down         due          \n",
            "during       each         eg           eight        either       eleven       \n",
            "else         elsewhere    empty        enough       etc          even         \n",
            "ever         every        everyone     everything   everywhere   except       \n",
            "few          fifteen      fifty        fill         find         fire         \n",
            "first        five         for          former       formerly     forty        \n",
            "found        four         from         front        full         further      \n",
            "get          give         go           had          has          hasnt        \n",
            "have         he           hence        her          here         hereafter    \n",
            "hereby       herein       hereupon     hers         herself      him          \n",
            "himself      his          how          however      hundred      i            \n",
            "ie           if           in           inc          indeed       interest     \n",
            "into         is           it           its          itself       keep         \n",
            "last         latter       latterly     least        less         ltd          \n",
            "made         many         may          me           meanwhile    might        \n",
            "mill         mine         more         moreover     most         mostly       \n",
            "move         much         must         my           myself       name         \n",
            "namely       neither      never        nevertheless next         nine         \n",
            "no           nobody       none         noone        nor          not          \n"
          ]
        }
      ],
      "source": [
        "from sklearn.feature_extraction._stop_words import ENGLISH_STOP_WORDS\n",
        "stopWords = list(sorted(ENGLISH_STOP_WORDS))\n",
        "ncolumns = 6; nrows= 30\n",
        "\n",
        "print('First {} of {} stopwords'.format(ncolumns * nrows, len(stopWords)))\n",
        "for i in range(0, len(stopWords[:(ncolumns * nrows)]), ncolumns):\n",
        "    print(''.join(word.ljust(13) for word in stopWords[i:(i+ncolumns)]))"
      ]
    },
    {
      "cell_type": "markdown",
      "metadata": {
        "id": "sL17FeZCWnBD"
      },
      "source": [
        "## Table 20.5 Text reduction of S1-S4 using stemming"
      ]
    },
    {
      "cell_type": "code",
      "execution_count": null,
      "metadata": {
        "execution": {
          "iopub.execute_input": "2023-06-26T14:23:16.689021Z",
          "iopub.status.busy": "2023-06-26T14:23:16.688472Z",
          "iopub.status.idle": "2023-06-26T14:23:16.703982Z",
          "shell.execute_reply": "2023-06-26T14:23:16.703164Z"
        },
        "id": "5PzsehOFWnBD",
        "outputId": "79bb75e7-81b7-431b-f2b1-502752711dc7"
      },
      "outputs": [
        {
          "name": "stdout",
          "output_type": "stream",
          "text": [
            "         S1  S2  S3  S4\n",
            "forth     0   0   0   1\n",
            "second    0   1   0   0\n",
            "sentenc   1   1   1   1\n"
          ]
        },
        {
          "name": "stderr",
          "output_type": "stream",
          "text": [
            "/usr/local/lib/python3.11/site-packages/sklearn/feature_extraction/text.py:528: UserWarning: The parameter 'token_pattern' will not be used since 'tokenizer' is not None'\n",
            "  warnings.warn(\n"
          ]
        }
      ],
      "source": [
        "from sklearn.feature_extraction._stop_words import ENGLISH_STOP_WORDS\n",
        "text = ['this is the first     sentence!! ',\n",
        "        'this is a second Sentence :)',\n",
        "        'the third sentence, is here ',\n",
        "        'forth of all sentences']\n",
        "\n",
        "# Create a custom tokenizer that will use NLTK for tokenizing and lemmatizing\n",
        "# (removes interpunctuation and stop words)\n",
        "class LemmaTokenizer:\n",
        "    def __init__(self):\n",
        "        self.stemmer = EnglishStemmer()\n",
        "        self.stopWords = set(ENGLISH_STOP_WORDS)\n",
        "\n",
        "    def __call__(self, doc):\n",
        "        return [self.stemmer.stem(t) for t in word_tokenize(doc)\n",
        "                if t.isalpha() and t not in self.stopWords]\n",
        "\n",
        "# Learn features based on text\n",
        "count_vect = CountVectorizer(tokenizer=LemmaTokenizer())\n",
        "counts = count_vect.fit_transform(text)\n",
        "\n",
        "printTermDocumentMatrix(count_vect, counts)"
      ]
    },
    {
      "cell_type": "markdown",
      "metadata": {
        "id": "b9_aLL3xWnBD"
      },
      "source": [
        "## Table 20.6 tf-idf matrix for S1-S4 example (after tokenization)"
      ]
    },
    {
      "cell_type": "code",
      "execution_count": null,
      "metadata": {
        "execution": {
          "iopub.execute_input": "2023-06-26T14:23:16.706732Z",
          "iopub.status.busy": "2023-06-26T14:23:16.706298Z",
          "iopub.status.idle": "2023-06-26T14:23:16.715982Z",
          "shell.execute_reply": "2023-06-26T14:23:16.715195Z"
        },
        "id": "_WrJJSrIWnBE",
        "outputId": "ff115e1f-e4a7-4e13-c11a-2c7d43fe74dd"
      },
      "outputs": [
        {
          "name": "stdout",
          "output_type": "stream",
          "text": [
            "                 S1        S2        S3        S4\n",
            "all        0.000000  0.000000  0.000000  2.386294\n",
            "first      2.386294  0.000000  0.000000  0.000000\n",
            "forth      0.000000  0.000000  0.000000  2.386294\n",
            "here       0.000000  0.000000  2.386294  0.000000\n",
            "is         1.287682  1.287682  1.287682  0.000000\n",
            "of         0.000000  0.000000  0.000000  2.386294\n",
            "second     0.000000  2.386294  0.000000  0.000000\n",
            "sentence   1.287682  1.287682  1.287682  0.000000\n",
            "sentences  0.000000  0.000000  0.000000  2.386294\n",
            "the        1.693147  0.000000  1.693147  0.000000\n",
            "third      0.000000  0.000000  2.386294  0.000000\n",
            "this       1.693147  1.693147  0.000000  0.000000\n"
          ]
        }
      ],
      "source": [
        "text = ['this is the first     sentence!!',\n",
        "        'this is a second Sentence :)',\n",
        "        'the third sentence, is here ',\n",
        "        'forth of all sentences']\n",
        "\n",
        "# Apply CountVectorizer and TfidfTransformer sequentially\n",
        "count_vect = CountVectorizer()\n",
        "tfidfTransformer = TfidfTransformer(smooth_idf=False, norm=None)\n",
        "counts = count_vect.fit_transform(text)\n",
        "tfidf = tfidfTransformer.fit_transform(counts)\n",
        "\n",
        "printTermDocumentMatrix(count_vect, tfidf)"
      ]
    },
    {
      "cell_type": "markdown",
      "metadata": {
        "id": "Wn7W7RfSWnBE"
      },
      "source": [
        "## Table 20.7 Importing and labeling the records, preprocessing text, and producing concept matrix"
      ]
    },
    {
      "cell_type": "code",
      "execution_count": null,
      "metadata": {
        "execution": {
          "iopub.execute_input": "2023-06-26T14:23:16.719290Z",
          "iopub.status.busy": "2023-06-26T14:23:16.718459Z",
          "iopub.status.idle": "2023-06-26T14:23:21.831569Z",
          "shell.execute_reply": "2023-06-26T14:23:21.830637Z"
        },
        "id": "XEV40GlKWnBE",
        "outputId": "a13d5a53-4cf9-4f5f-814b-47a7bfa184d6"
      },
      "outputs": [
        {
          "name": "stderr",
          "output_type": "stream",
          "text": [
            "/usr/local/lib/python3.11/site-packages/sklearn/feature_extraction/text.py:528: UserWarning: The parameter 'token_pattern' will not be used since 'tokenizer' is not None'\n",
            "  warnings.warn(\n"
          ]
        }
      ],
      "source": [
        "# Step 1: import and label records\n",
        "corpus = []\n",
        "label = []\n",
        "with ZipFile(dmba.get_data_file('AutoAndElectronics.zip')) as rawData:\n",
        "    for info in rawData.infolist():\n",
        "        if info.is_dir():\n",
        "            continue\n",
        "        label.append(1 if 'rec.autos' in info.filename else 0)\n",
        "        corpus.append(rawData.read(info))\n",
        "\n",
        "# Step 2: preprocessing (tokenization, stemming, and stopwords)\n",
        "class LemmaTokenizer(object):\n",
        "    def __init__(self):\n",
        "        self.stemmer = EnglishStemmer()\n",
        "        self.stopWords = set(ENGLISH_STOP_WORDS)\n",
        "    def __call__(self, doc):\n",
        "        return [self.stemmer.stem(t) for t in word_tokenize(doc)\n",
        "                if t.isalpha() and t not in self.stopWords]\n",
        "\n",
        "preprocessor = CountVectorizer(tokenizer=LemmaTokenizer(), encoding='latin1')\n",
        "preprocessedText = preprocessor.fit_transform(corpus)"
      ]
    },
    {
      "cell_type": "code",
      "execution_count": null,
      "metadata": {
        "execution": {
          "iopub.execute_input": "2023-06-26T14:23:21.834831Z",
          "iopub.status.busy": "2023-06-26T14:23:21.834304Z",
          "iopub.status.idle": "2023-06-26T14:23:22.205310Z",
          "shell.execute_reply": "2023-06-26T14:23:22.204622Z"
        },
        "id": "-IyspKIHWnBE"
      },
      "outputs": [],
      "source": [
        "\n",
        "# Step 3: TF-IDF and latent semantic analysis\n",
        "tfidfTransformer = TfidfTransformer()\n",
        "tfidf = tfidfTransformer.fit_transform(preprocessedText)\n",
        "\n",
        "# Extract 20 concepts using LSA ()\n",
        "svd = TruncatedSVD(20)\n",
        "normalizer = Normalizer(copy=False)\n",
        "lsa = make_pipeline(svd, normalizer)\n",
        "\n",
        "lsa_tfidf = lsa.fit_transform(tfidf)"
      ]
    },
    {
      "cell_type": "markdown",
      "metadata": {
        "id": "ONYX3AOvWnBE"
      },
      "source": [
        "## Table 20.8 Fitting a predictive model to the autos and electronics discussion data"
      ]
    },
    {
      "cell_type": "code",
      "execution_count": null,
      "metadata": {
        "execution": {
          "iopub.execute_input": "2023-06-26T14:23:22.207918Z",
          "iopub.status.busy": "2023-06-26T14:23:22.207602Z",
          "iopub.status.idle": "2023-06-26T14:23:22.230604Z",
          "shell.execute_reply": "2023-06-26T14:23:22.230168Z"
        },
        "id": "-wQ8VhWIWnBF",
        "outputId": "41ab5127-5f2d-463d-be2a-0c9cec6499b6"
      },
      "outputs": [
        {
          "name": "stdout",
          "output_type": "stream",
          "text": [
            "Confusion Matrix (Accuracy 0.9563)\n",
            "\n",
            "       Prediction\n",
            "Actual   0   1\n",
            "     0 388   9\n",
            "     1  26 377\n"
          ]
        }
      ],
      "source": [
        "# split dataset into 60% training and 40% test set\n",
        "Xtrain, Xtest, ytrain, ytest = train_test_split(lsa_tfidf, label, test_size=0.4, random_state=42)\n",
        "\n",
        "# run logistic regression model on training\n",
        "logit_reg = LogisticRegression(solver='lbfgs')\n",
        "logit_reg.fit(Xtrain, ytrain)\n",
        "\n",
        "# print confusion matrix and accuracty\n",
        "classificationSummary(ytest, logit_reg.predict(Xtest))"
      ]
    },
    {
      "cell_type": "code",
      "execution_count": null,
      "metadata": {
        "execution": {
          "iopub.execute_input": "2023-06-26T14:23:22.233931Z",
          "iopub.status.busy": "2023-06-26T14:23:22.233420Z",
          "iopub.status.idle": "2023-06-26T14:23:22.745724Z",
          "shell.execute_reply": "2023-06-26T14:23:22.744670Z"
        },
        "id": "XTEqtyDxWnBF",
        "outputId": "ddd4102d-f2d3-4d07-9bca-a7e317cc3cd7"
      },
      "outputs": [
        {
          "data": {
            "image/png": "[encoded data removed]",
            "text/plain": [
              "<Figure size 640x480 with 1 Axes>"
            ]
          },
          "metadata": {},
          "output_type": "display_data"
        }
      ],
      "source": [
        "df = pd.DataFrame(data={'prob': [p[1] for p in logit_reg.predict_proba(Xtest)], 'actual': ytest})\n",
        "df = df.sort_values(by=['prob'], ascending=False).reset_index(drop=True)\n",
        "\n",
        "ax = liftChart(df.actual, labelBars=False)\n",
        "\n",
        "plt.tight_layout()\n",
        "plt.show()"
      ]
    },
    {
      "cell_type": "code",
      "execution_count": null,
      "metadata": {
        "id": "lewWe0a-WnBF"
      },
      "outputs": [],
      "source": []
    }
  ],
  "metadata": {
    "kernelspec": {
      "display_name": "Python 3 (ipykernel)",
      "language": "python",
      "name": "python3"
    },
    "language_info": {
      "codemirror_mode": {
        "name": "ipython",
        "version": 3
      },
      "file_extension": ".py",
      "mimetype": "text/x-python",
      "name": "python",
      "nbconvert_exporter": "python",
      "pygments_lexer": "ipython3",
      "version": "3.11.4"
    },
    "colab": {
      "provenance": [],
      "include_colab_link": true
    }
  },
  "nbformat": 4,
  "nbformat_minor": 0
}